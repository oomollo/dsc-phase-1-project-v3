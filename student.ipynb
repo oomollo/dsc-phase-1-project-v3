{
 "cells": [
  {
   "cell_type": "markdown",
   "metadata": {},
   "source": [
    "## Final Project Submission\n",
    "\n",
    "Please fill out:\n",
    "* Student name:  Olgah Omollo\n",
    "* Student pace:  part time \n",
    "* Scheduled project review date/time: 29/04/2025\n",
    "* Instructor name: Maryanne Mwikali\n",
    "* Blog post URL:https://github.com/oomollo/dsc-phase-1-project-v3\n"
   ]
  },
  {
   "cell_type": "markdown",
   "metadata": {},
   "source": [
    "# Project Overview"
   ]
  },
  {
   "cell_type": "markdown",
   "metadata": {},
   "source": [
    "## Project Name: Aircraft Risk Evaluation"
   ]
  },
  {
   "cell_type": "markdown",
   "metadata": {},
   "source": [
    "# Introduction"
   ]
  },
  {
   "cell_type": "markdown",
   "metadata": {},
   "source": [
    "The goal of this project is to identify aircraft models with the lowest risk based on aviation accident data. \n",
    "By analyzing incidents, injuries, and fatalities, we aim to rank aircraft models by safety.\n",
    "This insight is valuable for decision making in the new business endevour of operating airlines"
   ]
  },
  {
   "cell_type": "markdown",
   "metadata": {},
   "source": [
    "## Data Overview"
   ]
  },
  {
   "cell_type": "markdown",
   "metadata": {},
   "source": [
    "\n",
    "\n",
    "Dataset: Aviation_Data.csv\n",
    "\n",
    "Rows: 90,348\n",
    "Columns: 31\n",
    "\n",
    "Source: National Transportation Safety Board (NTSB) accident records."
   ]
  },
  {
   "cell_type": "markdown",
   "metadata": {},
   "source": [
    "## Data Loading"
   ]
  },
  {
   "cell_type": "markdown",
   "metadata": {},
   "source": [
    "Importing python libraries required for data analysis and visualization"
   ]
  },
  {
   "cell_type": "code",
   "execution_count": 311,
   "metadata": {},
   "outputs": [],
   "source": [
    "import pandas as pd\n",
    "import matplotlib.pyplot as plt\n",
    "import numpy as np\n",
    "import seaborn as sns"
   ]
  },
  {
   "cell_type": "markdown",
   "metadata": {},
   "source": [
    "## Dowloading of the CSV file"
   ]
  },
  {
   "cell_type": "code",
   "execution_count": 312,
   "metadata": {},
   "outputs": [],
   "source": [
    "df=pd.read_csv(\"AviationData.csv\", encoding=\"ISO-8859-1\",low_memory=False)"
   ]
  },
  {
   "cell_type": "markdown",
   "metadata": {},
   "source": [
    "# Reading the first 5 rows of data "
   ]
  },
  {
   "cell_type": "code",
   "execution_count": 313,
   "metadata": {},
   "outputs": [
    {
     "data": {
      "text/html": [
       "<div>\n",
       "<style scoped>\n",
       "    .dataframe tbody tr th:only-of-type {\n",
       "        vertical-align: middle;\n",
       "    }\n",
       "\n",
       "    .dataframe tbody tr th {\n",
       "        vertical-align: top;\n",
       "    }\n",
       "\n",
       "    .dataframe thead th {\n",
       "        text-align: right;\n",
       "    }\n",
       "</style>\n",
       "<table border=\"1\" class=\"dataframe\">\n",
       "  <thead>\n",
       "    <tr style=\"text-align: right;\">\n",
       "      <th></th>\n",
       "      <th>Event.Id</th>\n",
       "      <th>Investigation.Type</th>\n",
       "      <th>Accident.Number</th>\n",
       "      <th>Event.Date</th>\n",
       "      <th>Location</th>\n",
       "      <th>Country</th>\n",
       "      <th>Latitude</th>\n",
       "      <th>Longitude</th>\n",
       "      <th>Airport.Code</th>\n",
       "      <th>Airport.Name</th>\n",
       "      <th>...</th>\n",
       "      <th>Purpose.of.flight</th>\n",
       "      <th>Air.carrier</th>\n",
       "      <th>Total.Fatal.Injuries</th>\n",
       "      <th>Total.Serious.Injuries</th>\n",
       "      <th>Total.Minor.Injuries</th>\n",
       "      <th>Total.Uninjured</th>\n",
       "      <th>Weather.Condition</th>\n",
       "      <th>Broad.phase.of.flight</th>\n",
       "      <th>Report.Status</th>\n",
       "      <th>Publication.Date</th>\n",
       "    </tr>\n",
       "  </thead>\n",
       "  <tbody>\n",
       "    <tr>\n",
       "      <th>0</th>\n",
       "      <td>20001218X45444</td>\n",
       "      <td>Accident</td>\n",
       "      <td>SEA87LA080</td>\n",
       "      <td>1948-10-24</td>\n",
       "      <td>MOOSE CREEK, ID</td>\n",
       "      <td>United States</td>\n",
       "      <td>NaN</td>\n",
       "      <td>NaN</td>\n",
       "      <td>NaN</td>\n",
       "      <td>NaN</td>\n",
       "      <td>...</td>\n",
       "      <td>Personal</td>\n",
       "      <td>NaN</td>\n",
       "      <td>2.0</td>\n",
       "      <td>0.0</td>\n",
       "      <td>0.0</td>\n",
       "      <td>0.0</td>\n",
       "      <td>UNK</td>\n",
       "      <td>Cruise</td>\n",
       "      <td>Probable Cause</td>\n",
       "      <td>NaN</td>\n",
       "    </tr>\n",
       "    <tr>\n",
       "      <th>1</th>\n",
       "      <td>20001218X45447</td>\n",
       "      <td>Accident</td>\n",
       "      <td>LAX94LA336</td>\n",
       "      <td>1962-07-19</td>\n",
       "      <td>BRIDGEPORT, CA</td>\n",
       "      <td>United States</td>\n",
       "      <td>NaN</td>\n",
       "      <td>NaN</td>\n",
       "      <td>NaN</td>\n",
       "      <td>NaN</td>\n",
       "      <td>...</td>\n",
       "      <td>Personal</td>\n",
       "      <td>NaN</td>\n",
       "      <td>4.0</td>\n",
       "      <td>0.0</td>\n",
       "      <td>0.0</td>\n",
       "      <td>0.0</td>\n",
       "      <td>UNK</td>\n",
       "      <td>Unknown</td>\n",
       "      <td>Probable Cause</td>\n",
       "      <td>19-09-1996</td>\n",
       "    </tr>\n",
       "    <tr>\n",
       "      <th>2</th>\n",
       "      <td>20061025X01555</td>\n",
       "      <td>Accident</td>\n",
       "      <td>NYC07LA005</td>\n",
       "      <td>1974-08-30</td>\n",
       "      <td>Saltville, VA</td>\n",
       "      <td>United States</td>\n",
       "      <td>36.922223</td>\n",
       "      <td>-81.878056</td>\n",
       "      <td>NaN</td>\n",
       "      <td>NaN</td>\n",
       "      <td>...</td>\n",
       "      <td>Personal</td>\n",
       "      <td>NaN</td>\n",
       "      <td>3.0</td>\n",
       "      <td>NaN</td>\n",
       "      <td>NaN</td>\n",
       "      <td>NaN</td>\n",
       "      <td>IMC</td>\n",
       "      <td>Cruise</td>\n",
       "      <td>Probable Cause</td>\n",
       "      <td>26-02-2007</td>\n",
       "    </tr>\n",
       "    <tr>\n",
       "      <th>3</th>\n",
       "      <td>20001218X45448</td>\n",
       "      <td>Accident</td>\n",
       "      <td>LAX96LA321</td>\n",
       "      <td>1977-06-19</td>\n",
       "      <td>EUREKA, CA</td>\n",
       "      <td>United States</td>\n",
       "      <td>NaN</td>\n",
       "      <td>NaN</td>\n",
       "      <td>NaN</td>\n",
       "      <td>NaN</td>\n",
       "      <td>...</td>\n",
       "      <td>Personal</td>\n",
       "      <td>NaN</td>\n",
       "      <td>2.0</td>\n",
       "      <td>0.0</td>\n",
       "      <td>0.0</td>\n",
       "      <td>0.0</td>\n",
       "      <td>IMC</td>\n",
       "      <td>Cruise</td>\n",
       "      <td>Probable Cause</td>\n",
       "      <td>12-09-2000</td>\n",
       "    </tr>\n",
       "    <tr>\n",
       "      <th>4</th>\n",
       "      <td>20041105X01764</td>\n",
       "      <td>Accident</td>\n",
       "      <td>CHI79FA064</td>\n",
       "      <td>1979-08-02</td>\n",
       "      <td>Canton, OH</td>\n",
       "      <td>United States</td>\n",
       "      <td>NaN</td>\n",
       "      <td>NaN</td>\n",
       "      <td>NaN</td>\n",
       "      <td>NaN</td>\n",
       "      <td>...</td>\n",
       "      <td>Personal</td>\n",
       "      <td>NaN</td>\n",
       "      <td>1.0</td>\n",
       "      <td>2.0</td>\n",
       "      <td>NaN</td>\n",
       "      <td>0.0</td>\n",
       "      <td>VMC</td>\n",
       "      <td>Approach</td>\n",
       "      <td>Probable Cause</td>\n",
       "      <td>16-04-1980</td>\n",
       "    </tr>\n",
       "  </tbody>\n",
       "</table>\n",
       "<p>5 rows × 31 columns</p>\n",
       "</div>"
      ],
      "text/plain": [
       "         Event.Id Investigation.Type Accident.Number  Event.Date  \\\n",
       "0  20001218X45444           Accident      SEA87LA080  1948-10-24   \n",
       "1  20001218X45447           Accident      LAX94LA336  1962-07-19   \n",
       "2  20061025X01555           Accident      NYC07LA005  1974-08-30   \n",
       "3  20001218X45448           Accident      LAX96LA321  1977-06-19   \n",
       "4  20041105X01764           Accident      CHI79FA064  1979-08-02   \n",
       "\n",
       "          Location        Country   Latitude   Longitude Airport.Code  \\\n",
       "0  MOOSE CREEK, ID  United States        NaN         NaN          NaN   \n",
       "1   BRIDGEPORT, CA  United States        NaN         NaN          NaN   \n",
       "2    Saltville, VA  United States  36.922223  -81.878056          NaN   \n",
       "3       EUREKA, CA  United States        NaN         NaN          NaN   \n",
       "4       Canton, OH  United States        NaN         NaN          NaN   \n",
       "\n",
       "  Airport.Name  ... Purpose.of.flight Air.carrier Total.Fatal.Injuries  \\\n",
       "0          NaN  ...          Personal         NaN                  2.0   \n",
       "1          NaN  ...          Personal         NaN                  4.0   \n",
       "2          NaN  ...          Personal         NaN                  3.0   \n",
       "3          NaN  ...          Personal         NaN                  2.0   \n",
       "4          NaN  ...          Personal         NaN                  1.0   \n",
       "\n",
       "  Total.Serious.Injuries Total.Minor.Injuries Total.Uninjured  \\\n",
       "0                    0.0                  0.0             0.0   \n",
       "1                    0.0                  0.0             0.0   \n",
       "2                    NaN                  NaN             NaN   \n",
       "3                    0.0                  0.0             0.0   \n",
       "4                    2.0                  NaN             0.0   \n",
       "\n",
       "  Weather.Condition  Broad.phase.of.flight   Report.Status Publication.Date  \n",
       "0               UNK                 Cruise  Probable Cause              NaN  \n",
       "1               UNK                Unknown  Probable Cause       19-09-1996  \n",
       "2               IMC                 Cruise  Probable Cause       26-02-2007  \n",
       "3               IMC                 Cruise  Probable Cause       12-09-2000  \n",
       "4               VMC               Approach  Probable Cause       16-04-1980  \n",
       "\n",
       "[5 rows x 31 columns]"
      ]
     },
     "execution_count": 313,
     "metadata": {},
     "output_type": "execute_result"
    }
   ],
   "source": [
    "df.head()"
   ]
  },
  {
   "cell_type": "markdown",
   "metadata": {},
   "source": [
    "# Viewing information on the data to identify the colums with missing information"
   ]
  },
  {
   "cell_type": "code",
   "execution_count": 314,
   "metadata": {},
   "outputs": [
    {
     "name": "stdout",
     "output_type": "stream",
     "text": [
      "<class 'pandas.core.frame.DataFrame'>\n",
      "RangeIndex: 88889 entries, 0 to 88888\n",
      "Data columns (total 31 columns):\n",
      " #   Column                  Non-Null Count  Dtype  \n",
      "---  ------                  --------------  -----  \n",
      " 0   Event.Id                88889 non-null  object \n",
      " 1   Investigation.Type      88889 non-null  object \n",
      " 2   Accident.Number         88889 non-null  object \n",
      " 3   Event.Date              88889 non-null  object \n",
      " 4   Location                88837 non-null  object \n",
      " 5   Country                 88663 non-null  object \n",
      " 6   Latitude                34382 non-null  object \n",
      " 7   Longitude               34373 non-null  object \n",
      " 8   Airport.Code            50249 non-null  object \n",
      " 9   Airport.Name            52790 non-null  object \n",
      " 10  Injury.Severity         87889 non-null  object \n",
      " 11  Aircraft.damage         85695 non-null  object \n",
      " 12  Aircraft.Category       32287 non-null  object \n",
      " 13  Registration.Number     87572 non-null  object \n",
      " 14  Make                    88826 non-null  object \n",
      " 15  Model                   88797 non-null  object \n",
      " 16  Amateur.Built           88787 non-null  object \n",
      " 17  Number.of.Engines       82805 non-null  float64\n",
      " 18  Engine.Type             81812 non-null  object \n",
      " 19  FAR.Description         32023 non-null  object \n",
      " 20  Schedule                12582 non-null  object \n",
      " 21  Purpose.of.flight       82697 non-null  object \n",
      " 22  Air.carrier             16648 non-null  object \n",
      " 23  Total.Fatal.Injuries    77488 non-null  float64\n",
      " 24  Total.Serious.Injuries  76379 non-null  float64\n",
      " 25  Total.Minor.Injuries    76956 non-null  float64\n",
      " 26  Total.Uninjured         82977 non-null  float64\n",
      " 27  Weather.Condition       84397 non-null  object \n",
      " 28  Broad.phase.of.flight   61724 non-null  object \n",
      " 29  Report.Status           82508 non-null  object \n",
      " 30  Publication.Date        75118 non-null  object \n",
      "dtypes: float64(5), object(26)\n",
      "memory usage: 21.0+ MB\n"
     ]
    }
   ],
   "source": [
    "df.info()"
   ]
  },
  {
   "cell_type": "markdown",
   "metadata": {},
   "source": [
    "### Creating of relevant colums for data analysis"
   ]
  },
  {
   "cell_type": "code",
   "execution_count": 315,
   "metadata": {},
   "outputs": [],
   "source": [
    "relevant_columns = [\n",
    "    \"Investigation.Type\",\"Event.Date\",\"Make\", \"Model\",\"Number.of.Engines\", \"Injury.Severity\",\n",
    "    \"Total.Fatal.Injuries\", \"Total.Serious.Injuries\",\n",
    "    \"Total.Minor.Injuries\", \"Total.Uninjured\",'Purpose.of.flight', 'Weather.Condition',\n",
    "]\n",
    "df_clean =df[relevant_columns].copy()"
   ]
  },
  {
   "cell_type": "code",
   "execution_count": 316,
   "metadata": {},
   "outputs": [
    {
     "name": "stdout",
     "output_type": "stream",
     "text": [
      "<class 'pandas.core.frame.DataFrame'>\n",
      "RangeIndex: 88889 entries, 0 to 88888\n",
      "Data columns (total 12 columns):\n",
      " #   Column                  Non-Null Count  Dtype  \n",
      "---  ------                  --------------  -----  \n",
      " 0   Investigation.Type      88889 non-null  object \n",
      " 1   Event.Date              88889 non-null  object \n",
      " 2   Make                    88826 non-null  object \n",
      " 3   Model                   88797 non-null  object \n",
      " 4   Number.of.Engines       82805 non-null  float64\n",
      " 5   Injury.Severity         87889 non-null  object \n",
      " 6   Total.Fatal.Injuries    77488 non-null  float64\n",
      " 7   Total.Serious.Injuries  76379 non-null  float64\n",
      " 8   Total.Minor.Injuries    76956 non-null  float64\n",
      " 9   Total.Uninjured         82977 non-null  float64\n",
      " 10  Purpose.of.flight       82697 non-null  object \n",
      " 11  Weather.Condition       84397 non-null  object \n",
      "dtypes: float64(5), object(7)\n",
      "memory usage: 8.1+ MB\n"
     ]
    }
   ],
   "source": [
    "df_clean.info()"
   ]
  },
  {
   "cell_type": "markdown",
   "metadata": {},
   "source": [
    "### Data Cleaning"
   ]
  },
  {
   "cell_type": "code",
   "execution_count": 317,
   "metadata": {},
   "outputs": [],
   "source": [
    "#Clean column names (remove extra spaces)\n",
    "df_clean.columns = df_clean.columns.str.strip()"
   ]
  },
  {
   "cell_type": "code",
   "execution_count": 318,
   "metadata": {},
   "outputs": [],
   "source": [
    "# Standardize 'Make', 'Model' and Weather Condition(lowercase everything)\n",
    "df_clean['Make'] = df_clean['Make'].str.upper()\n",
    "df_clean['Model'] = df_clean['Model'].str.upper()\n",
    "df_clean['Weather.Condition']=df_clean['Weather.Condition'].str.upper()"
   ]
  },
  {
   "cell_type": "markdown",
   "metadata": {},
   "source": [
    "Convert injury columns to numeric and fill missing with 0"
   ]
  },
  {
   "cell_type": "code",
   "execution_count": 319,
   "metadata": {},
   "outputs": [],
   "source": [
    "\n",
    "injury_cols = [\n",
    "    \"Total.Fatal.Injuries\", \"Total.Serious.Injuries\",\n",
    "    \"Total.Minor.Injuries\", \"Total.Uninjured\"\n",
    "]\n",
    "df_clean[injury_cols] =df_clean[injury_cols].apply(pd.to_numeric, errors='coerce').fillna(0)\n",
    "\n"
   ]
  },
  {
   "cell_type": "markdown",
   "metadata": {},
   "source": [
    "Cleaning the Injury colums by filling blank rows with Unavailble"
   ]
  },
  {
   "cell_type": "code",
   "execution_count": 320,
   "metadata": {},
   "outputs": [],
   "source": [
    "df_clean['Injury.Severity'] = df_clean['Injury.Severity'].fillna('Unavailable')\n"
   ]
  },
  {
   "cell_type": "markdown",
   "metadata": {},
   "source": [
    "Cleaning Weather Condition column by filling blank rows with UNK"
   ]
  },
  {
   "cell_type": "code",
   "execution_count": 321,
   "metadata": {},
   "outputs": [],
   "source": [
    "df_clean['Weather.Condition'] = df_clean['Weather.Condition'].fillna('UNK')"
   ]
  },
  {
   "cell_type": "markdown",
   "metadata": {},
   "source": [
    "Cleaning weather Condition column by filling empty rows with 'unknown'"
   ]
  },
  {
   "cell_type": "code",
   "execution_count": 322,
   "metadata": {},
   "outputs": [],
   "source": [
    "df_clean['Purpose.of.flight'] = df_clean['Purpose.of.flight'].fillna('Unknown')"
   ]
  },
  {
   "cell_type": "markdown",
   "metadata": {},
   "source": [
    "Cleaning the number of Engine columns by removing the empty rows"
   ]
  },
  {
   "cell_type": "code",
   "execution_count": 323,
   "metadata": {},
   "outputs": [],
   "source": [
    "df_clean = df_clean.dropna(subset=['Number.of.Engines'])"
   ]
  },
  {
   "cell_type": "markdown",
   "metadata": {},
   "source": [
    "Cleaning the make column by removing empty rows"
   ]
  },
  {
   "cell_type": "code",
   "execution_count": 324,
   "metadata": {},
   "outputs": [],
   "source": [
    "df_clean = df_clean.dropna(subset=['Make'])"
   ]
  },
  {
   "cell_type": "markdown",
   "metadata": {},
   "source": [
    "Cleaning the Model colum by removing the emty rows"
   ]
  },
  {
   "cell_type": "code",
   "execution_count": 325,
   "metadata": {},
   "outputs": [],
   "source": [
    "df_clean = df_clean.dropna(subset=['Model'])"
   ]
  },
  {
   "cell_type": "markdown",
   "metadata": {},
   "source": [
    "Connvert event date to year for easier analysis"
   ]
  },
  {
   "cell_type": "code",
   "execution_count": 326,
   "metadata": {},
   "outputs": [],
   "source": [
    "df_clean['Event.Date'] = pd.to_datetime(df_clean['Event.Date'])\n",
    "\n",
    "# Extract year\n",
    "df_clean['Event.year'] = df_clean['Event.Date'].dt.year\n"
   ]
  },
  {
   "cell_type": "markdown",
   "metadata": {},
   "source": [
    "Confirming the data after Cleaning"
   ]
  },
  {
   "cell_type": "code",
   "execution_count": 327,
   "metadata": {},
   "outputs": [
    {
     "name": "stdout",
     "output_type": "stream",
     "text": [
      "<class 'pandas.core.frame.DataFrame'>\n",
      "Int64Index: 82754 entries, 0 to 88886\n",
      "Data columns (total 13 columns):\n",
      " #   Column                  Non-Null Count  Dtype         \n",
      "---  ------                  --------------  -----         \n",
      " 0   Investigation.Type      82754 non-null  object        \n",
      " 1   Event.Date              82754 non-null  datetime64[ns]\n",
      " 2   Make                    82754 non-null  object        \n",
      " 3   Model                   82754 non-null  object        \n",
      " 4   Number.of.Engines       82754 non-null  float64       \n",
      " 5   Injury.Severity         82754 non-null  object        \n",
      " 6   Total.Fatal.Injuries    82754 non-null  float64       \n",
      " 7   Total.Serious.Injuries  82754 non-null  float64       \n",
      " 8   Total.Minor.Injuries    82754 non-null  float64       \n",
      " 9   Total.Uninjured         82754 non-null  float64       \n",
      " 10  Purpose.of.flight       82754 non-null  object        \n",
      " 11  Weather.Condition       82754 non-null  object        \n",
      " 12  Event.year              82754 non-null  int64         \n",
      "dtypes: datetime64[ns](1), float64(5), int64(1), object(6)\n",
      "memory usage: 8.8+ MB\n"
     ]
    }
   ],
   "source": [
    "df_clean.info()"
   ]
  },
  {
   "cell_type": "markdown",
   "metadata": {},
   "source": [
    "# Data Analysis"
   ]
  },
  {
   "cell_type": "markdown",
   "metadata": {},
   "source": [
    "### Create a risk score"
   ]
  },
  {
   "cell_type": "code",
   "execution_count": 328,
   "metadata": {},
   "outputs": [],
   "source": [
    "\n",
    "# Calculate risk score (Fatal=10, Serious=5, Minor=2)\n",
    "df_clean[\"RiskScore\"] = (\n",
    "    10 * df_clean[\"Total.Fatal.Injuries\"] +\n",
    "    5 * df_clean[\"Total.Serious.Injuries\"] +\n",
    "    2 * df_clean[\"Total.Minor.Injuries\"]\n",
    ")\n",
    "\n"
   ]
  },
  {
   "cell_type": "markdown",
   "metadata": {},
   "source": [
    "Creating a new column called RiskScore in the Cleaned DataFrame and will be calculated based on injuries associated with each aircraft model or type. Formula to be used' Risk score = ((10×Fatal Injuries)+(5×Serious Injuries)+(2×Minor Injuries))\n",
    "10 used to represent higher risk\n",
    "\n",
    "5 represent Medium risk\n",
    "\n",
    "2 represent low risk"
   ]
  },
  {
   "cell_type": "code",
   "execution_count": 329,
   "metadata": {},
   "outputs": [
    {
     "name": "stdout",
     "output_type": "stream",
     "text": [
      "<class 'pandas.core.frame.DataFrame'>\n",
      "Int64Index: 82754 entries, 0 to 88886\n",
      "Data columns (total 14 columns):\n",
      " #   Column                  Non-Null Count  Dtype         \n",
      "---  ------                  --------------  -----         \n",
      " 0   Investigation.Type      82754 non-null  object        \n",
      " 1   Event.Date              82754 non-null  datetime64[ns]\n",
      " 2   Make                    82754 non-null  object        \n",
      " 3   Model                   82754 non-null  object        \n",
      " 4   Number.of.Engines       82754 non-null  float64       \n",
      " 5   Injury.Severity         82754 non-null  object        \n",
      " 6   Total.Fatal.Injuries    82754 non-null  float64       \n",
      " 7   Total.Serious.Injuries  82754 non-null  float64       \n",
      " 8   Total.Minor.Injuries    82754 non-null  float64       \n",
      " 9   Total.Uninjured         82754 non-null  float64       \n",
      " 10  Purpose.of.flight       82754 non-null  object        \n",
      " 11  Weather.Condition       82754 non-null  object        \n",
      " 12  Event.year              82754 non-null  int64         \n",
      " 13  RiskScore               82754 non-null  float64       \n",
      "dtypes: datetime64[ns](1), float64(6), int64(1), object(6)\n",
      "memory usage: 9.5+ MB\n"
     ]
    }
   ],
   "source": [
    "df_clean.info()# Confirming the additional Riskscore column"
   ]
  },
  {
   "cell_type": "markdown",
   "metadata": {},
   "source": [
    "Downloading of the cleaned data"
   ]
  },
  {
   "cell_type": "code",
   "execution_count": 330,
   "metadata": {},
   "outputs": [],
   "source": [
    "df_clean.to_csv('cleaned_data.csv', index=False)"
   ]
  },
  {
   "cell_type": "markdown",
   "metadata": {},
   "source": [
    "### Analysis of investigations done per plane make and model"
   ]
  },
  {
   "cell_type": "code",
   "execution_count": 331,
   "metadata": {},
   "outputs": [
    {
     "data": {
      "text/html": [
       "<div>\n",
       "<style scoped>\n",
       "    .dataframe tbody tr th:only-of-type {\n",
       "        vertical-align: middle;\n",
       "    }\n",
       "\n",
       "    .dataframe tbody tr th {\n",
       "        vertical-align: top;\n",
       "    }\n",
       "\n",
       "    .dataframe thead th {\n",
       "        text-align: right;\n",
       "    }\n",
       "</style>\n",
       "<table border=\"1\" class=\"dataframe\">\n",
       "  <thead>\n",
       "    <tr style=\"text-align: right;\">\n",
       "      <th></th>\n",
       "      <th>Make</th>\n",
       "      <th>Model</th>\n",
       "      <th>Investigation.Type</th>\n",
       "      <th>Count</th>\n",
       "    </tr>\n",
       "  </thead>\n",
       "  <tbody>\n",
       "    <tr>\n",
       "      <th>0</th>\n",
       "      <td>107.5 FLYING CORPORATION</td>\n",
       "      <td>ONE DESIGN DR 107</td>\n",
       "      <td>Accident</td>\n",
       "      <td>1</td>\n",
       "    </tr>\n",
       "    <tr>\n",
       "      <th>10964</th>\n",
       "      <td>MATTISON</td>\n",
       "      <td>MAC MU-200</td>\n",
       "      <td>Accident</td>\n",
       "      <td>1</td>\n",
       "    </tr>\n",
       "    <tr>\n",
       "      <th>10965</th>\n",
       "      <td>MATTISON</td>\n",
       "      <td>MAC ULTRALIGHT</td>\n",
       "      <td>Accident</td>\n",
       "      <td>1</td>\n",
       "    </tr>\n",
       "    <tr>\n",
       "      <th>10966</th>\n",
       "      <td>MATTISON</td>\n",
       "      <td>STARDUSTER TOO</td>\n",
       "      <td>Accident</td>\n",
       "      <td>1</td>\n",
       "    </tr>\n",
       "    <tr>\n",
       "      <th>10967</th>\n",
       "      <td>MATTO</td>\n",
       "      <td>KR-2A MODIFIED</td>\n",
       "      <td>Accident</td>\n",
       "      <td>1</td>\n",
       "    </tr>\n",
       "    <tr>\n",
       "      <th>...</th>\n",
       "      <td>...</td>\n",
       "      <td>...</td>\n",
       "      <td>...</td>\n",
       "      <td>...</td>\n",
       "    </tr>\n",
       "    <tr>\n",
       "      <th>4403</th>\n",
       "      <td>CESSNA</td>\n",
       "      <td>150</td>\n",
       "      <td>Accident</td>\n",
       "      <td>798</td>\n",
       "    </tr>\n",
       "    <tr>\n",
       "      <th>13066</th>\n",
       "      <td>PIPER</td>\n",
       "      <td>PA-28-140</td>\n",
       "      <td>Accident</td>\n",
       "      <td>916</td>\n",
       "    </tr>\n",
       "    <tr>\n",
       "      <th>4518</th>\n",
       "      <td>CESSNA</td>\n",
       "      <td>172N</td>\n",
       "      <td>Accident</td>\n",
       "      <td>1142</td>\n",
       "    </tr>\n",
       "    <tr>\n",
       "      <th>4462</th>\n",
       "      <td>CESSNA</td>\n",
       "      <td>172</td>\n",
       "      <td>Accident</td>\n",
       "      <td>1662</td>\n",
       "    </tr>\n",
       "    <tr>\n",
       "      <th>4435</th>\n",
       "      <td>CESSNA</td>\n",
       "      <td>152</td>\n",
       "      <td>Accident</td>\n",
       "      <td>2325</td>\n",
       "    </tr>\n",
       "  </tbody>\n",
       "</table>\n",
       "<p>17682 rows × 4 columns</p>\n",
       "</div>"
      ],
      "text/plain": [
       "                           Make              Model Investigation.Type  Count\n",
       "0      107.5 FLYING CORPORATION  ONE DESIGN DR 107           Accident      1\n",
       "10964                  MATTISON         MAC MU-200           Accident      1\n",
       "10965                  MATTISON     MAC ULTRALIGHT           Accident      1\n",
       "10966                  MATTISON     STARDUSTER TOO           Accident      1\n",
       "10967                     MATTO     KR-2A MODIFIED           Accident      1\n",
       "...                         ...                ...                ...    ...\n",
       "4403                     CESSNA                150           Accident    798\n",
       "13066                     PIPER          PA-28-140           Accident    916\n",
       "4518                     CESSNA               172N           Accident   1142\n",
       "4462                     CESSNA                172           Accident   1662\n",
       "4435                     CESSNA                152           Accident   2325\n",
       "\n",
       "[17682 rows x 4 columns]"
      ]
     },
     "execution_count": 331,
     "metadata": {},
     "output_type": "execute_result"
    }
   ],
   "source": [
    "df_clean.groupby([\"Make\", \"Model\", \"Investigation.Type\"]).size().reset_index(name=\"Count\").sort_values(by=\"Count\", ascending=True)"
   ]
  },
  {
   "cell_type": "markdown",
   "metadata": {},
   "source": [
    "### Cessna -152 had the highest number of accidents  tottaling to 2352,while 107.5 FLYING CORPORATION\tONE DESIGN DR 107\thad 1 accident"
   ]
  },
  {
   "cell_type": "markdown",
   "metadata": {},
   "source": [
    "### Count of Risk scores per number of Engines"
   ]
  },
  {
   "cell_type": "code",
   "execution_count": 332,
   "metadata": {},
   "outputs": [
    {
     "data": {
      "text/html": [
       "<div>\n",
       "<style scoped>\n",
       "    .dataframe tbody tr th:only-of-type {\n",
       "        vertical-align: middle;\n",
       "    }\n",
       "\n",
       "    .dataframe tbody tr th {\n",
       "        vertical-align: top;\n",
       "    }\n",
       "\n",
       "    .dataframe thead th {\n",
       "        text-align: right;\n",
       "    }\n",
       "</style>\n",
       "<table border=\"1\" class=\"dataframe\">\n",
       "  <thead>\n",
       "    <tr style=\"text-align: right;\">\n",
       "      <th></th>\n",
       "      <th>Number.of.Engines</th>\n",
       "      <th>RiskScore</th>\n",
       "    </tr>\n",
       "  </thead>\n",
       "  <tbody>\n",
       "    <tr>\n",
       "      <th>0</th>\n",
       "      <td>0.0</td>\n",
       "      <td>1226</td>\n",
       "    </tr>\n",
       "    <tr>\n",
       "      <th>1</th>\n",
       "      <td>1.0</td>\n",
       "      <td>69538</td>\n",
       "    </tr>\n",
       "    <tr>\n",
       "      <th>2</th>\n",
       "      <td>2.0</td>\n",
       "      <td>11072</td>\n",
       "    </tr>\n",
       "    <tr>\n",
       "      <th>3</th>\n",
       "      <td>3.0</td>\n",
       "      <td>483</td>\n",
       "    </tr>\n",
       "    <tr>\n",
       "      <th>4</th>\n",
       "      <td>4.0</td>\n",
       "      <td>431</td>\n",
       "    </tr>\n",
       "    <tr>\n",
       "      <th>5</th>\n",
       "      <td>6.0</td>\n",
       "      <td>1</td>\n",
       "    </tr>\n",
       "    <tr>\n",
       "      <th>6</th>\n",
       "      <td>8.0</td>\n",
       "      <td>3</td>\n",
       "    </tr>\n",
       "  </tbody>\n",
       "</table>\n",
       "</div>"
      ],
      "text/plain": [
       "   Number.of.Engines  RiskScore\n",
       "0                0.0       1226\n",
       "1                1.0      69538\n",
       "2                2.0      11072\n",
       "3                3.0        483\n",
       "4                4.0        431\n",
       "5                6.0          1\n",
       "6                8.0          3"
      ]
     },
     "execution_count": 332,
     "metadata": {},
     "output_type": "execute_result"
    }
   ],
   "source": [
    "\n",
    "df_clean.groupby(['Number.of.Engines'])['RiskScore'].count().reset_index()"
   ]
  },
  {
   "cell_type": "code",
   "execution_count": 333,
   "metadata": {},
   "outputs": [],
   "source": [
    "###Risk summary grouped by make and model of aircraft based on Investigation type and risk score\n",
    "risk_summary = (\n",
    "    df_clean\n",
    "    .groupby([\"Make\", \"Model\"])\n",
    "    .agg(\n",
    "        Total_Incidents=(\"RiskScore\", \"count\"),\n",
    "        Total_Accidents=(\"RiskScore\", \"sum\"), \n",
    "        Total_RiskScore=(\"RiskScore\", \"sum\"),\n",
    "        Avg_RiskScore=(\"RiskScore\", \"mean\")\n",
    "    )\n",
    "    .reset_index()\n",
    "    .sort_values(by=\"Avg_RiskScore\")\n",
    ")"
   ]
  },
  {
   "cell_type": "code",
   "execution_count": 334,
   "metadata": {},
   "outputs": [
    {
     "data": {
      "text/html": [
       "<div>\n",
       "<style scoped>\n",
       "    .dataframe tbody tr th:only-of-type {\n",
       "        vertical-align: middle;\n",
       "    }\n",
       "\n",
       "    .dataframe tbody tr th {\n",
       "        vertical-align: top;\n",
       "    }\n",
       "\n",
       "    .dataframe thead th {\n",
       "        text-align: right;\n",
       "    }\n",
       "</style>\n",
       "<table border=\"1\" class=\"dataframe\">\n",
       "  <thead>\n",
       "    <tr style=\"text-align: right;\">\n",
       "      <th></th>\n",
       "      <th>Make</th>\n",
       "      <th>Model</th>\n",
       "      <th>Total_Incidents</th>\n",
       "      <th>Total_Accidents</th>\n",
       "      <th>Total_RiskScore</th>\n",
       "      <th>Avg_RiskScore</th>\n",
       "    </tr>\n",
       "  </thead>\n",
       "  <tbody>\n",
       "    <tr>\n",
       "      <th>16938</th>\n",
       "      <td>ZWICKER MURRAY R</td>\n",
       "      <td>GLASTAR</td>\n",
       "      <td>1</td>\n",
       "      <td>0.0</td>\n",
       "      <td>0.0</td>\n",
       "      <td>0.0</td>\n",
       "    </tr>\n",
       "    <tr>\n",
       "      <th>7199</th>\n",
       "      <td>FLURRY</td>\n",
       "      <td>AVENTURA II</td>\n",
       "      <td>1</td>\n",
       "      <td>0.0</td>\n",
       "      <td>0.0</td>\n",
       "      <td>0.0</td>\n",
       "    </tr>\n",
       "    <tr>\n",
       "      <th>7197</th>\n",
       "      <td>FLUGZEUGBAU</td>\n",
       "      <td>EA-300L</td>\n",
       "      <td>1</td>\n",
       "      <td>0.0</td>\n",
       "      <td>0.0</td>\n",
       "      <td>0.0</td>\n",
       "    </tr>\n",
       "    <tr>\n",
       "      <th>7195</th>\n",
       "      <td>FLOYD R.HARRIS</td>\n",
       "      <td>EAGLE 2</td>\n",
       "      <td>1</td>\n",
       "      <td>0.0</td>\n",
       "      <td>0.0</td>\n",
       "      <td>0.0</td>\n",
       "    </tr>\n",
       "    <tr>\n",
       "      <th>7194</th>\n",
       "      <td>FLOYD JOSEPH B</td>\n",
       "      <td>RV6</td>\n",
       "      <td>1</td>\n",
       "      <td>0.0</td>\n",
       "      <td>0.0</td>\n",
       "      <td>0.0</td>\n",
       "    </tr>\n",
       "    <tr>\n",
       "      <th>14983</th>\n",
       "      <td>SONEX</td>\n",
       "      <td>WAIEX</td>\n",
       "      <td>1</td>\n",
       "      <td>0.0</td>\n",
       "      <td>0.0</td>\n",
       "      <td>0.0</td>\n",
       "    </tr>\n",
       "    <tr>\n",
       "      <th>7191</th>\n",
       "      <td>FLOURNOY MARTIN R</td>\n",
       "      <td>FLOURNOY MR S1S</td>\n",
       "      <td>1</td>\n",
       "      <td>0.0</td>\n",
       "      <td>0.0</td>\n",
       "      <td>0.0</td>\n",
       "    </tr>\n",
       "    <tr>\n",
       "      <th>7189</th>\n",
       "      <td>FLOHR DAVID J</td>\n",
       "      <td>R 80 TIGER MOTH</td>\n",
       "      <td>1</td>\n",
       "      <td>0.0</td>\n",
       "      <td>0.0</td>\n",
       "      <td>0.0</td>\n",
       "    </tr>\n",
       "    <tr>\n",
       "      <th>7186</th>\n",
       "      <td>FLIGHTWORKS CORP</td>\n",
       "      <td>CAPELLA XS FW2C80TD</td>\n",
       "      <td>1</td>\n",
       "      <td>0.0</td>\n",
       "      <td>0.0</td>\n",
       "      <td>0.0</td>\n",
       "    </tr>\n",
       "    <tr>\n",
       "      <th>7181</th>\n",
       "      <td>FLIGHTSTAR</td>\n",
       "      <td>FLIGHTSTAR II-SL</td>\n",
       "      <td>1</td>\n",
       "      <td>0.0</td>\n",
       "      <td>0.0</td>\n",
       "      <td>0.0</td>\n",
       "    </tr>\n",
       "  </tbody>\n",
       "</table>\n",
       "</div>"
      ],
      "text/plain": [
       "                    Make                Model  Total_Incidents  \\\n",
       "16938   ZWICKER MURRAY R              GLASTAR                1   \n",
       "7199              FLURRY          AVENTURA II                1   \n",
       "7197         FLUGZEUGBAU              EA-300L                1   \n",
       "7195      FLOYD R.HARRIS              EAGLE 2                1   \n",
       "7194      FLOYD JOSEPH B                  RV6                1   \n",
       "14983              SONEX                WAIEX                1   \n",
       "7191   FLOURNOY MARTIN R      FLOURNOY MR S1S                1   \n",
       "7189       FLOHR DAVID J      R 80 TIGER MOTH                1   \n",
       "7186    FLIGHTWORKS CORP  CAPELLA XS FW2C80TD                1   \n",
       "7181          FLIGHTSTAR     FLIGHTSTAR II-SL                1   \n",
       "\n",
       "       Total_Accidents  Total_RiskScore  Avg_RiskScore  \n",
       "16938              0.0              0.0            0.0  \n",
       "7199               0.0              0.0            0.0  \n",
       "7197               0.0              0.0            0.0  \n",
       "7195               0.0              0.0            0.0  \n",
       "7194               0.0              0.0            0.0  \n",
       "14983              0.0              0.0            0.0  \n",
       "7191               0.0              0.0            0.0  \n",
       "7189               0.0              0.0            0.0  \n",
       "7186               0.0              0.0            0.0  \n",
       "7181               0.0              0.0            0.0  "
      ]
     },
     "execution_count": 334,
     "metadata": {},
     "output_type": "execute_result"
    }
   ],
   "source": [
    "risk_summary.head(10)"
   ]
  },
  {
   "cell_type": "code",
   "execution_count": 335,
   "metadata": {},
   "outputs": [
    {
     "name": "stdout",
     "output_type": "stream",
     "text": [
      "[['ZWICKER MURRAY R', 'GLASTAR'], ['FLURRY', 'AVENTURA II'], ['FLUGZEUGBAU', 'EA-300L'], ['FLOYD R.HARRIS', 'EAGLE 2'], ['FLOYD JOSEPH B', 'RV6'], ['SONEX', 'WAIEX'], ['FLOURNOY MARTIN R', 'FLOURNOY MR S1S'], ['FLOHR DAVID J', 'R 80 TIGER MOTH'], ['FLIGHTWORKS CORP', 'CAPELLA XS FW2C80TD'], ['FLIGHTSTAR', 'FLIGHTSTAR II-SL']]\n"
     ]
    }
   ],
   "source": [
    "#List of top 10 models with Zero risk\n",
    "top_10_makes_models = risk_summary[['Make', 'Model']].head(10).values.tolist()\n",
    "\n",
    "# Display the result\n",
    "print(top_10_makes_models)"
   ]
  },
  {
   "cell_type": "markdown",
   "metadata": {},
   "source": [
    "Top 5 Models with Single reported incidents and Zero accidents are : Glastar, Aventura II , EA-300L. Eagle 2 and RV6"
   ]
  },
  {
   "cell_type": "markdown",
   "metadata": {},
   "source": [
    "Analysis of the riskiest Aircraft Model"
   ]
  },
  {
   "cell_type": "code",
   "execution_count": 336,
   "metadata": {},
   "outputs": [
    {
     "name": "stdout",
     "output_type": "stream",
     "text": [
      "Riskiest Aircraft Models:\n",
      "\n",
      "                    Make        Model  Total_Incidents  Total_Accidents  \\\n",
      "3145              BOEING    777-200ER                1            815.0   \n",
      "6257             DOUGLAS        MD-83                1            880.0   \n",
      "15927            TUPOLEV        TU154                1            890.0   \n",
      "2856              BOEING      727-134                1            920.0   \n",
      "841     AIRBUS INDUSTRIE  A300B4-605R                2           2713.0   \n",
      "2834              BOEING          707                1           1440.0   \n",
      "745               AIRBUS         A310                1           1522.0   \n",
      "6529             EMBRAER  E135 LEGACY                1           1540.0   \n",
      "10682  MCDONNELL DOUGLAS      DC-8-62                1           1740.0   \n",
      "3133              BOEING   767-366-ER                1           2170.0   \n",
      "\n",
      "       Total_RiskScore  Avg_RiskScore  \n",
      "3145             815.0          815.0  \n",
      "6257             880.0          880.0  \n",
      "15927            890.0          890.0  \n",
      "2856             920.0          920.0  \n",
      "841             2713.0         1356.5  \n",
      "2834            1440.0         1440.0  \n",
      "745             1522.0         1522.0  \n",
      "6529            1540.0         1540.0  \n",
      "10682           1740.0         1740.0  \n",
      "3133            2170.0         2170.0  \n"
     ]
    }
   ],
   "source": [
    "Highest_risk_models = (\n",
    "    risk_summary[risk_summary[\"Total_Accidents\"] >= 1]  # Filter for rows with at least 1 accident\n",
    "    .sort_values(by=\"Avg_RiskScore\")  # Sort by Avg_RiskScore (ascending order by default)\n",
    "    .tail(10)  # Select top 10 rows\n",
    ")\n",
    "\n",
    "\n",
    "# Find the 10 models with the lowest average risk\n",
    "#lowest_risk_models = risk_summary.sort_values('Avg_RiskScore').head(10)\n",
    "\n",
    "print(\"Riskiest Aircraft Models:\\n\")\n",
    "print(Highest_risk_models)\n"
   ]
  },
  {
   "cell_type": "markdown",
   "metadata": {},
   "source": [
    "The riskiest plane is Boeing 767-366-ER with a total of 2170 accidents "
   ]
  },
  {
   "cell_type": "markdown",
   "metadata": {},
   "source": [
    " Analysis of the lowest risk Aircraft Models"
   ]
  },
  {
   "cell_type": "code",
   "execution_count": 337,
   "metadata": {},
   "outputs": [
    {
     "name": "stdout",
     "output_type": "stream",
     "text": [
      "Safest Aircraft Models:\n",
      "\n",
      "                   Make             Model  Total_Incidents  Total_Accidents  \\\n",
      "16938  ZWICKER MURRAY R           GLASTAR                1              0.0   \n",
      "10302           MANDLEY     STEEN SKYBOLT                1              0.0   \n",
      "10304         MANKOVICH          PARAKEET                1              0.0   \n",
      "10307         MANOUCHER  LANCAIR 360 MKII                1              0.0   \n",
      "10310   MANTELL ALLAN T     KITFOX 4 1200                1              0.0   \n",
      "10256    LYOYD THOMPSON       POBER PIXIE                1              0.0   \n",
      "10255    LYONS STUECKLE       QUICKIE Q-2                1              0.0   \n",
      "10252        LYNN PERRY           CAVALON                1              0.0   \n",
      "10187  LOVE, SANFORD W.         DOMINATOR                1              0.0   \n",
      "10301           MANCINI         VANS RV-4                1              0.0   \n",
      "\n",
      "       Total_RiskScore  Avg_RiskScore  \n",
      "16938              0.0            0.0  \n",
      "10302              0.0            0.0  \n",
      "10304              0.0            0.0  \n",
      "10307              0.0            0.0  \n",
      "10310              0.0            0.0  \n",
      "10256              0.0            0.0  \n",
      "10255              0.0            0.0  \n",
      "10252              0.0            0.0  \n",
      "10187              0.0            0.0  \n",
      "10301              0.0            0.0  \n"
     ]
    }
   ],
   "source": [
    "\n",
    "# Filter aircraft with 1+ Accidents\n",
    "lowest_risk_models = (\n",
    "    risk_summary[(risk_summary[\"Total_Accidents\"] == 0) & (risk_summary[\"Total_Incidents\"] == 1)]  # Filter for no accidents and no incidents\n",
    "    .sort_values(by=\"Avg_RiskScore\")  # Sort by Avg_RiskScore in ascending order\n",
    "    .head(10)  # Select top 10 rows\n",
    ")\n",
    "\n",
    "\n",
    "# Find the 10 models with the lowest average risk\n",
    "#lowest_risk_models = risk_summary.sort_values('Avg_RiskScore').head(10)\n",
    "\n",
    "print(\"Safest Aircraft Models:\\n\")\n",
    "print(lowest_risk_models)\n"
   ]
  },
  {
   "cell_type": "markdown",
   "metadata": {},
   "source": [
    "## Data Visualization"
   ]
  },
  {
   "cell_type": "markdown",
   "metadata": {},
   "source": [
    "Comparison of number of Engines and risk score"
   ]
  },
  {
   "cell_type": "code",
   "execution_count": 338,
   "metadata": {},
   "outputs": [
    {
     "data": {
      "image/png": "[encoded data removed]",
      "text/plain": [
       "<Figure size 864x432 with 1 Axes>"
      ]
     },
     "metadata": {
      "needs_background": "light"
     },
     "output_type": "display_data"
    }
   ],
   "source": [
    "\n",
    "plt.figure(figsize=(12, 6))\n",
    "sns.lineplot(\n",
    "    x=\"Number.of.Engines\",  # x-axis: Number of Engines\n",
    "    y=\"RiskScore\",      # y-axis: Average Risk Score\n",
    "    data=df_clean           # Data from the df_clean DataFrame\n",
    ")\n",
    "plt.title(\"Analysis of Number of Aircraft Engines vs the Risk Scores\")\n",
    "plt.xlabel(\"Number of Engines\")\n",
    "plt.ylabel(\"Average Risk Score\")\n",
    "plt.tight_layout()\n",
    "plt.show()"
   ]
  },
  {
   "cell_type": "markdown",
   "metadata": {},
   "source": [
    " Airplanes with 6 engines have the lowest risk score  while those with 4 engines have the highest risk score"
   ]
  },
  {
   "cell_type": "markdown",
   "metadata": {},
   "source": [
    "## Line graph of Investigations Types over the years\n"
   ]
  },
  {
   "cell_type": "code",
   "execution_count": 339,
   "metadata": {},
   "outputs": [
    {
     "data": {
      "image/png": "[encoded data removed]",
      "text/plain": [
       "<Figure size 864x432 with 1 Axes>"
      ]
     },
     "metadata": {
      "needs_background": "light"
     },
     "output_type": "display_data"
    }
   ],
   "source": [
    "grouped = df_clean.groupby(['Event.year', 'Investigation.Type']).size().reset_index(name='Count')\n",
    "\n",
    "# Pivot for plotting\n",
    "pivot_df = grouped.pivot(index='Event.year', columns='Investigation.Type', values='Count').fillna(0)\n",
    "\n",
    "# Plot\n",
    "pivot_df.plot(kind='line', figsize=(12, 6))\n",
    "\n",
    "plt.title('Investigation Type Over Years')\n",
    "plt.xlabel('Event Year')\n",
    "plt.ylabel('Number of Investigations')\n",
    "plt.legend(title='Investigation Type')\n",
    "plt.grid(True)\n",
    "plt.tight_layout()\n",
    "plt.show()"
   ]
  },
  {
   "cell_type": "markdown",
   "metadata": {},
   "source": [
    "1981 Had the highest investigations "
   ]
  },
  {
   "cell_type": "markdown",
   "metadata": {},
   "source": [
    "Sublots of the diffrent injury levels per year"
   ]
  },
  {
   "cell_type": "code",
   "execution_count": 340,
   "metadata": {},
   "outputs": [
    {
     "data": {
      "image/png": "[encoded data removed]",
      "text/plain": [
       "<Figure size 1008x720 with 4 Axes>"
      ]
     },
     "metadata": {
      "needs_background": "light"
     },
     "output_type": "display_data"
    }
   ],
   "source": [
    "injury_cols = ['Total.Fatal.Injuries','Total.Serious.Injuries','Total.Minor.Injuries','Total.Uninjured']\n",
    "\n",
    "# Group by year and sum each injury type\n",
    "injuries_by_year = df_clean.groupby('Event.year')[injury_cols].sum().reset_index()\n",
    "\n",
    "# Create subplots\n",
    "fig, axes = plt.subplots(nrows=2, ncols=2, figsize=(14, 10), sharex=True)\n",
    "axes = axes.flatten()\n",
    "\n",
    "# Plot each injury type\n",
    "for i, col in enumerate(injury_cols):\n",
    "    axes[i].plot(injuries_by_year['Event.year'], injuries_by_year[col], marker='o', linewidth=2)\n",
    "    axes[i].set_title(col.replace('.', ' '), fontsize=12)\n",
    "    axes[i].set_ylabel('Count')\n",
    "    axes[i].grid(True)\n",
    "\n",
    "# Shared x-axis label\n",
    "for ax in axes:\n",
    "    ax.set_xlabel('Year')\n",
    "    ax.tick_params(axis='x', rotation=45)\n",
    "\n",
    "plt.suptitle('Injury Types per Year', fontsize=16)\n",
    "plt.tight_layout(rect=[0, 0, 1, 0.96])\n",
    "plt.show()"
   ]
  },
  {
   "cell_type": "markdown",
   "metadata": {},
   "source": [
    "There were no injuries from 1950 to 1980\n",
    "The number of injuries have been gradually reducing from  1982\n"
   ]
  },
  {
   "cell_type": "markdown",
   "metadata": {},
   "source": [
    "### Heatmap: Correlation between the Injury types"
   ]
  },
  {
   "cell_type": "code",
   "execution_count": 341,
   "metadata": {},
   "outputs": [
    {
     "data": {
      "image/png": "[encoded data removed]",
      "text/plain": [
       "<Figure size 576x432 with 2 Axes>"
      ]
     },
     "metadata": {
      "needs_background": "light"
     },
     "output_type": "display_data"
    }
   ],
   "source": [
    "injury_cols = [\n",
    "    'Total.Fatal.Injuries',\n",
    "    'Total.Serious.Injuries',\n",
    "    'Total.Minor.Injuries',\n",
    "    'Total.Uninjured'\n",
    "]\n",
    "\n",
    "# Compute correlation matrix\n",
    "correlation_matrix = df_clean[injury_cols].corr()\n",
    "\n",
    "# Plot heatmap\n",
    "plt.figure(figsize=(8, 6))\n",
    "sns.heatmap(correlation_matrix, annot=True, cmap='coolwarm', center=0, fmt=\".2f\", linewidths=0.5)\n",
    "\n",
    "plt.title('Correlation Between Injury Types', fontsize=14)\n",
    "plt.tight_layout()\n",
    "plt.show()\n"
   ]
  },
  {
   "cell_type": "markdown",
   "metadata": {},
   "source": [
    "Understanding the heatmap correlation\n",
    "\n",
    "High positive correlation between Fatal and Serious Injuries ➔ severe accidents tend to cause both.\n",
    "\n",
    "Negative correlation between Fatalities and Uninjured ➔ The more fatalities, the fewer uninjured.\n",
    "\n",
    "Minor injuries might have weaker correlation with fatal/serious injuries ➔ Minor accidents are often different in nature."
   ]
  },
  {
   "cell_type": "markdown",
   "metadata": {},
   "source": [
    "###  Barplot - Safest Aircraft Models"
   ]
  },
  {
   "cell_type": "code",
   "execution_count": 342,
   "metadata": {},
   "outputs": [
    {
     "data": {
      "image/png": "[encoded data removed]",
      "text/plain": [
       "<Figure size 864x432 with 1 Axes>"
      ]
     },
     "metadata": {
      "needs_background": "light"
     },
     "output_type": "display_data"
    }
   ],
   "source": [
    "# Step 1: Filter for aircraft with zero accidents and zero incidents\n",
    "lowest_risk_models = (\n",
    "    risk_summary[(risk_summary[\"Total_Accidents\"] == 0) & (risk_summary[\"Total_Incidents\"] == 1)]  # Filter for no accidents and no incidents\n",
    "    .sort_values(by=\"Avg_RiskScore\")  # Sort by Avg_RiskScore in ascending order\n",
    "    .head(10)  # Select top 10 rows\n",
    ")\n",
    "\n",
    "# Step 2: Create a combined \"Aircraft\" column for Make and Model\n",
    "lowest_risk_models[\"Aircraft\"] = lowest_risk_models[\"Make\"] + \" \" + lowest_risk_models[\"Model\"]\n",
    "\n",
    "# Step 3: Plot the top 10 lowest risk aircraft\n",
    "plt.figure(figsize=(12, 6))\n",
    "sns.barplot(\n",
    "    x=\"Avg_RiskScore\",               # x-axis: average risk score\n",
    "    y=\"Aircraft\",                    # y-axis: combined Make + Model\n",
    "    data=lowest_risk_models,         # Data source\n",
    "    palette=\"viridis\"\n",
    ")\n",
    "\n",
    "plt.title(\"Top 10 Aircraft with Zero Accidents and Zero Incidents (Lowest Risk Score)\", fontsize=14)\n",
    "plt.xlabel(\"Average Risk Score\")\n",
    "plt.ylabel(\"Aircraft (Make + Model)\")\n",
    "plt.tight_layout()\n",
    "plt.show()"
   ]
  },
  {
   "cell_type": "markdown",
   "metadata": {},
   "source": [
    "Identify Plane with single engine planes and 6 engines"
   ]
  },
  {
   "cell_type": "code",
   "execution_count": 343,
   "metadata": {},
   "outputs": [
    {
     "data": {
      "image/png": "[encoded data removed]",
      "text/plain": [
       "<Figure size 1152x576 with 2 Axes>"
      ]
     },
     "metadata": {
      "needs_background": "light"
     },
     "output_type": "display_data"
    }
   ],
   "source": [
    "# Step 1: Filter aircraft with 6 engines\n",
    "six_engine_planes = df_clean[df_clean['Number.of.Engines'] == 6]\n",
    "one_engine_planes = df_clean[df_clean['Number.of.Engines'] == 1]\n",
    "\n",
    "# Step 2: Group by Make and Model, compute average RiskScore for 6-engine planes\n",
    "risk_by_model_six = six_engine_planes.groupby(['Make', 'Model'])['RiskScore'].mean().reset_index()\n",
    "\n",
    "# Step 3: Create Aircraft column (Make + Model) for 6-engine planes\n",
    "risk_by_model_six['Aircraft'] = risk_by_model_six['Make'] + ' ' + risk_by_model_six['Model']\n",
    "\n",
    "# Step 4: Sort by RiskScore and get top N safest for 6-engine planes\n",
    "top_n = 10\n",
    "safest_six_engine = risk_by_model_six.sort_values(by='RiskScore').head(top_n)\n",
    "\n",
    "# Step 2 (Repeat): Group by Make and Model, compute average RiskScore for 1-engine planes\n",
    "risk_by_model_one = one_engine_planes.groupby(['Make', 'Model'])['RiskScore'].mean().reset_index()\n",
    "\n",
    "# Step 3 (Repeat): Create Aircraft column (Make + Model) for 1-engine planes\n",
    "risk_by_model_one['Aircraft'] = risk_by_model_one['Make'] + ' ' + risk_by_model_one['Model']\n",
    "\n",
    "# Step 4 (Repeat): Sort by RiskScore and get top N safest for 1-engine planes\n",
    "safest_one_engine = risk_by_model_one.sort_values(by='RiskScore').head(top_n)\n",
    "\n",
    "# Step 5: Create subplots for both 6-engine and 1-engine planes\n",
    "fig, axes = plt.subplots(1, 2, figsize=(16, 8))  # Create two subplots (1 row, 2 columns)\n",
    "\n",
    "# Plot for 6-engine aircraft\n",
    "sns.barplot(\n",
    "    x=\"RiskScore\", \n",
    "    y=\"Aircraft\", \n",
    "    data=safest_six_engine, \n",
    "    palette=\"Blues_r\", \n",
    "    ax=axes[0]  # Plot on the first subplot\n",
    ")\n",
    "axes[0].set_title(f'Top {top_n} Safest 6-Engine Aircraft Models', fontsize=14)\n",
    "axes[0].set_xlabel('Average Risk Score')\n",
    "axes[0].set_ylabel('Aircraft (Make + Model)')\n",
    "\n",
    "# Plot for 1-engine aircraft\n",
    "sns.barplot(\n",
    "    x=\"RiskScore\", \n",
    "    y=\"Aircraft\", \n",
    "    data=safest_one_engine, \n",
    "    palette=\"Blues_r\", \n",
    "    ax=axes[1]  # Plot on the second subplot\n",
    ")\n",
    "axes[1].set_title(f'Top {top_n} Safest 1-Engine Aircraft Models', fontsize=14)\n",
    "axes[1].set_xlabel('Average Risk Score')\n",
    "axes[1].set_ylabel('Aircraft (Make + Model)')\n",
    "\n",
    "# Adjust layout for tight fitting\n",
    "plt.tight_layout()\n",
    "plt.show()"
   ]
  },
  {
   "cell_type": "markdown",
   "metadata": {},
   "source": [
    "## Reccomendation:"
   ]
  },
  {
   "cell_type": "markdown",
   "metadata": {},
   "source": [
    "Aircraft with six engines had the lowest risk,followed by those with 1 engine.\n",
    "Joby Aero INC JAS4-2 is the only plane with six engines."
   ]
  },
  {
   "cell_type": "markdown",
   "metadata": {},
   "source": [
    "Based on the above analysis, the below aircraft models are recommended for acquisition:\n",
    "1. Joby Aero INC JAS4-2\n",
    "2. Jeffs J- Bird\n",
    "3. Jenkins Pitts s-1\n",
    "4. Janks Skybolt\n",
    "5. Jenning Pietenpol Aircamper"
   ]
  },
  {
   "cell_type": "markdown",
   "metadata": {},
   "source": [
    "Reasons\n",
    "\n",
    "These Aircrafts have had zero accidents\n",
    "\n",
    "These aircraft have shown zero fatalities or  injuries in recorded incidents.\n",
    "\n",
    "They have had just a single incident each"
   ]
  },
  {
   "cell_type": "markdown",
   "metadata": {},
   "source": []
  },
  {
   "cell_type": "markdown",
   "metadata": {},
   "source": [
    "## Conclusion"
   ]
  },
  {
   "cell_type": "markdown",
   "metadata": {},
   "source": [
    "To ensure a strong and secure entry into the aviation industry, we recommend prioritizing the acquisition and leasing of the above models. These aircraft have a demonstrated track record of operational safety, significantly reducing business risk while ensuring reliable performance"
   ]
  }
 ],
 "metadata": {
  "kernelspec": {
   "display_name": "learn-env",
   "language": "python",
   "name": "python3"
  },
  "language_info": {
   "codemirror_mode": {
    "name": "ipython",
    "version": 3
   },
   "file_extension": ".py",
   "mimetype": "text/x-python",
   "name": "python",
   "nbconvert_exporter": "python",
   "pygments_lexer": "ipython3",
   "version": "3.8.5"
  }
 },
 "nbformat": 4,
 "nbformat_minor": 2
}
